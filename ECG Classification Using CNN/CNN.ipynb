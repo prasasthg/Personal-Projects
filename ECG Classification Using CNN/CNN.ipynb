{
 "cells": [
  {
   "cell_type": "code",
   "execution_count": 58,
   "id": "d5bf9a81-5a8f-40f4-8334-3d7d71e9d516",
   "metadata": {},
   "outputs": [],
   "source": [
    "# Import Libraries\n",
    "import pandas as pd\n",
    "import numpy as np\n",
    "import matplotlib.pyplot as plt"
   ]
  },
  {
   "cell_type": "code",
   "execution_count": 59,
   "id": "7b372d4c-e455-41e2-bd2f-6a7a6195959e",
   "metadata": {},
   "outputs": [],
   "source": [
    "# Import Train and Test CSV files\n",
    "train_df = pd.read_csv('Downloads/ecg/mitbih_train.csv', header=None)\n",
    "test_df = pd.read_csv('Downloads/ecg/mitbih_test.csv', header=None)"
   ]
  },
  {
   "cell_type": "code",
   "execution_count": 60,
   "id": "bc15f62b-9688-410b-9473-eed28c1024e5",
   "metadata": {},
   "outputs": [
    {
     "name": "stdout",
     "output_type": "stream",
     "text": [
      "<class 'pandas.core.frame.DataFrame'>\n",
      "RangeIndex: 87554 entries, 0 to 87553\n",
      "Columns: 187 entries, 0 to 186\n",
      "dtypes: float64(187)\n",
      "memory usage: 124.9 MB\n"
     ]
    }
   ],
   "source": [
    "# Split features and variables\n",
    "X_train = train_df.iloc[:,:-1]\n",
    "Y_train = train_df.iloc[:,-1]\n",
    "X_test = test_df.iloc[:,:-1]\n",
    "Y_test = test_df.iloc[:,-1]\n",
    "X_train.info()"
   ]
  },
  {
   "cell_type": "code",
   "execution_count": 61,
   "id": "ed599660-e9c3-4f41-a6b0-e1072aaa6faa",
   "metadata": {},
   "outputs": [
    {
     "data": {
      "text/plain": [
       "187\n",
       "0    72471\n",
       "4     6431\n",
       "2     5788\n",
       "1     2223\n",
       "3      641\n",
       "Name: count, dtype: int64"
      ]
     },
     "execution_count": 61,
     "metadata": {},
     "output_type": "execute_result"
    }
   ],
   "source": [
    "# Display label value counts\n",
    "Y_train = Y_train.astype('int')\n",
    "Y_train.value_counts()"
   ]
  },
  {
   "cell_type": "code",
   "execution_count": 62,
   "id": "246b8cde-0329-4187-a51e-a6d72c396fcf",
   "metadata": {},
   "outputs": [],
   "source": [
    "# Normalize Features\n",
    "X_train_np = X_train.to_numpy()\n",
    "X_test_np = X_test.to_numpy()\n",
    "X_mean = X_train_np.mean()\n",
    "X_std = X_train_np.std()\n",
    "X_max = X_train_np.max()\n",
    "X_min = X_train_np.min()\n",
    "X_train_norm = (X_train_np - X_mean)/X_std\n",
    "X_test_norm = (X_test_np - X_mean)/X_std"
   ]
  },
  {
   "cell_type": "code",
   "execution_count": 63,
   "id": "9f0dc52f-a4f0-494e-b583-26a19f6fc844",
   "metadata": {},
   "outputs": [
    {
     "name": "stdout",
     "output_type": "stream",
     "text": [
      "(87554, 187, 1)\n",
      "(21892, 187, 1)\n"
     ]
    }
   ],
   "source": [
    "# Reshape Input Features\n",
    "X_train_norm = np.array(X_train_norm).reshape(X_train_norm.shape[0], X_train_norm.shape[1], 1)\n",
    "X_test_norm = np.array(X_test_norm).reshape(X_test_norm.shape[0], X_test_norm.shape[1], 1)\n",
    "print(X_train_norm.shape)\n",
    "print(X_test_norm.shape)"
   ]
  },
  {
   "cell_type": "code",
   "execution_count": 64,
   "id": "7fb34ab0-5aa7-4838-9f04-70ff4db27502",
   "metadata": {},
   "outputs": [],
   "source": [
    "# Split train dataset into training and validation sets\n",
    "from sklearn.model_selection import train_test_split\n",
    "features_train, features_val, labels_train, labels_val = train_test_split(X_train_norm, Y_train, test_size=0.2, shuffle=True)"
   ]
  },
  {
   "cell_type": "code",
   "execution_count": 65,
   "id": "f6b78662-506c-4463-b682-01f489fb18b6",
   "metadata": {},
   "outputs": [],
   "source": [
    "# Import Libraries\n",
    "import tensorflow as tf\n",
    "from tensorflow.keras.models import Sequential\n",
    "from tensorflow.keras.layers import Flatten, Dense, Conv1D, MaxPool1D, Dropout\n",
    "from tensorflow.keras.optimizers import Adam"
   ]
  },
  {
   "cell_type": "code",
   "execution_count": 66,
   "id": "0faa1fe3-4514-47bb-b068-1e211f445d3a",
   "metadata": {},
   "outputs": [],
   "source": [
    "# Create sequential model \n",
    "model = tf.keras.models.Sequential()\n",
    "\n",
    "# First CNN layer  with 32 filters, conv window 5, relu activation and same padding\n",
    "model.add(Conv1D(filters=32, kernel_size=(5,), padding='same', activation='relu', input_shape = (features_train.shape[1],1)))\n",
    "\n",
    "# Max Pooling Layer\n",
    "model.add(MaxPool1D(pool_size=(5,), strides=2, padding='same'))\n",
    "\n",
    "# Second CNN layer  with 64 filters, conv window 5, relu activation and same padding\n",
    "model.add(Conv1D(filters=64, kernel_size=(5,), padding='same', activation='relu'))\n",
    "\n",
    "# Max Pooling Layer\n",
    "model.add(MaxPool1D(pool_size=(5,), strides=2, padding='same'))\n",
    "\n",
    "# Dropout Layer\n",
    "model.add(Dropout(0.5))\n",
    "\n",
    "# Flatten the output\n",
    "model.add(Flatten())\n",
    "\n",
    "# Add a dense layer with 512 neurons\n",
    "model.add(Dense(units = 512, activation='relu'))\n",
    "\n",
    "# Add a dense layer with 1024 neurons\n",
    "model.add(Dense(units = 1024, activation='relu'))\n",
    "\n",
    "# Softmax as last layer with two outputs\n",
    "model.add(Dense(units = 5, activation='softmax'))"
   ]
  },
  {
   "cell_type": "code",
   "execution_count": 67,
   "id": "f1b44c22-e67e-4d10-a1ad-8cc5818f21b4",
   "metadata": {},
   "outputs": [],
   "source": [
    "# Compile Model\n",
    "model.compile(optimizer='adam', loss = 'sparse_categorical_crossentropy', metrics=['accuracy'])"
   ]
  },
  {
   "cell_type": "code",
   "execution_count": 68,
   "id": "3f36c77d-cd4d-4389-965f-04a0860be878",
   "metadata": {},
   "outputs": [
    {
     "name": "stdout",
     "output_type": "stream",
     "text": [
      "Model: \"sequential_3\"\n",
      "_________________________________________________________________\n",
      " Layer (type)                Output Shape              Param #   \n",
      "=================================================================\n",
      " conv1d_6 (Conv1D)           (None, 187, 32)           192       \n",
      "                                                                 \n",
      " max_pooling1d_6 (MaxPoolin  (None, 94, 32)            0         \n",
      " g1D)                                                            \n",
      "                                                                 \n",
      " conv1d_7 (Conv1D)           (None, 94, 64)            10304     \n",
      "                                                                 \n",
      " max_pooling1d_7 (MaxPoolin  (None, 47, 64)            0         \n",
      " g1D)                                                            \n",
      "                                                                 \n",
      " dropout_3 (Dropout)         (None, 47, 64)            0         \n",
      "                                                                 \n",
      " flatten_3 (Flatten)         (None, 3008)              0         \n",
      "                                                                 \n",
      " dense_9 (Dense)             (None, 512)               1540608   \n",
      "                                                                 \n",
      " dense_10 (Dense)            (None, 1024)              525312    \n",
      "                                                                 \n",
      " dense_11 (Dense)            (None, 5)                 5125      \n",
      "                                                                 \n",
      "=================================================================\n",
      "Total params: 2081541 (7.94 MB)\n",
      "Trainable params: 2081541 (7.94 MB)\n",
      "Non-trainable params: 0 (0.00 Byte)\n",
      "_________________________________________________________________\n"
     ]
    }
   ],
   "source": [
    "# Show Model Summary\n",
    "model.summary()"
   ]
  },
  {
   "cell_type": "code",
   "execution_count": 69,
   "id": "68c21105-5263-4aa8-a6c0-3616ea7e1123",
   "metadata": {
    "scrolled": true
   },
   "outputs": [
    {
     "name": "stdout",
     "output_type": "stream",
     "text": [
      "Epoch 1/10\n",
      "548/548 [==============================] - 23s 39ms/step - loss: 0.1831 - accuracy: 0.9482\n",
      "Epoch 2/10\n",
      "548/548 [==============================] - 22s 40ms/step - loss: 0.0998 - accuracy: 0.9716\n",
      "Epoch 3/10\n",
      "548/548 [==============================] - 21s 39ms/step - loss: 0.0812 - accuracy: 0.9771\n",
      "Epoch 4/10\n",
      "548/548 [==============================] - 21s 38ms/step - loss: 0.0701 - accuracy: 0.9796\n",
      "Epoch 5/10\n",
      "548/548 [==============================] - 21s 38ms/step - loss: 0.0606 - accuracy: 0.9820\n",
      "Epoch 6/10\n",
      "548/548 [==============================] - 22s 40ms/step - loss: 0.0544 - accuracy: 0.9836\n",
      "Epoch 7/10\n",
      "548/548 [==============================] - 21s 38ms/step - loss: 0.0501 - accuracy: 0.9842\n",
      "Epoch 8/10\n",
      "548/548 [==============================] - 20s 37ms/step - loss: 0.0450 - accuracy: 0.9858\n",
      "Epoch 9/10\n",
      "548/548 [==============================] - 21s 38ms/step - loss: 0.0424 - accuracy: 0.9863\n",
      "Epoch 10/10\n",
      "548/548 [==============================] - 21s 38ms/step - loss: 0.0384 - accuracy: 0.9876\n"
     ]
    },
    {
     "data": {
      "text/plain": [
       "<keras.src.callbacks.History at 0x254026fc7d0>"
      ]
     },
     "execution_count": 69,
     "metadata": {},
     "output_type": "execute_result"
    }
   ],
   "source": [
    "# Fit model onto train data\n",
    "model.fit(features_train, labels_train, batch_size=128, epochs = 10)"
   ]
  },
  {
   "cell_type": "code",
   "execution_count": 70,
   "id": "870648c5-d578-4930-875f-a1cb78d21f1e",
   "metadata": {},
   "outputs": [
    {
     "name": "stdout",
     "output_type": "stream",
     "text": [
      "548/548 [==============================] - 3s 5ms/step\n"
     ]
    }
   ],
   "source": [
    "# Predict labels for validation data\n",
    "y_pred = np.argmax(model.predict(features_val),axis=1)"
   ]
  },
  {
   "cell_type": "code",
   "execution_count": 71,
   "id": "c797cff6-cb47-43d3-a200-e54e6e835d3b",
   "metadata": {},
   "outputs": [],
   "source": [
    "# Print confusion matrix\n",
    "confusion = tf.math.confusion_matrix(labels=labels_val, predictions=y_pred, num_classes=5)\n",
    "confusion"
   ]
  },
  {
   "cell_type": "code",
   "execution_count": 73,
   "id": "20b7890b-eb9b-414a-9bb6-e3f173904ebd",
   "metadata": {},
   "outputs": [
    {
     "data": {
      "text/plain": [
       "0.9868082919307863"
      ]
     },
     "execution_count": 73,
     "metadata": {},
     "output_type": "execute_result"
    }
   ],
   "source": [
    "# Print accuracy of model\n",
    "accuracy = np.trace(confusion)/len(y_pred)\n",
    "accuracy"
   ]
  },
  {
   "cell_type": "code",
   "execution_count": 76,
   "id": "0c15468d-ba27-4647-94f9-03b41f62f401",
   "metadata": {},
   "outputs": [
    {
     "data": {
      "text/plain": [
       "187\n",
       "0    18118\n",
       "4     1608\n",
       "2     1448\n",
       "1      556\n",
       "3      162\n",
       "Name: count, dtype: int64"
      ]
     },
     "execution_count": 76,
     "metadata": {},
     "output_type": "execute_result"
    }
   ],
   "source": [
    "# Label counts for test data\n",
    "Y_test = Y_test.astype('int')\n",
    "Y_test.value_counts()"
   ]
  },
  {
   "cell_type": "code",
   "execution_count": 91,
   "id": "8575e4f9-534b-40ce-916e-e214e5709fd4",
   "metadata": {},
   "outputs": [
    {
     "name": "stdout",
     "output_type": "stream",
     "text": [
      "685/685 [==============================] - 3s 5ms/step\n"
     ]
    }
   ],
   "source": [
    "# Predict labels for test data\n",
    "labels_test = np.argmax(model.predict(X_test_norm), axis=1)"
   ]
  },
  {
   "cell_type": "code",
   "execution_count": 92,
   "id": "0cd1cea6-2bb4-4f68-a260-8195c48da62b",
   "metadata": {},
   "outputs": [
    {
     "data": {
      "text/plain": [
       "<tf.Tensor: shape=(5, 5), dtype=int32, numpy=\n",
       "array([[18037,    40,    25,    10,     6],\n",
       "       [  113,   429,    11,     2,     1],\n",
       "       [   37,     9,  1372,    27,     3],\n",
       "       [   17,     1,    11,   133,     0],\n",
       "       [   15,     1,     3,     0,  1589]])>"
      ]
     },
     "execution_count": 92,
     "metadata": {},
     "output_type": "execute_result"
    }
   ],
   "source": [
    "# Print confusion matrix\n",
    "confusion_1 = tf.math.confusion_matrix(labels=Y_test, predictions=labels_test, num_classes=5)\n",
    "confusion_1"
   ]
  },
  {
   "cell_type": "code",
   "execution_count": 93,
   "id": "0061723b-f4f0-47a9-98e1-34a3fb86b3f5",
   "metadata": {},
   "outputs": [
    {
     "data": {
      "text/plain": [
       "0.9848346427918875"
      ]
     },
     "execution_count": 93,
     "metadata": {},
     "output_type": "execute_result"
    }
   ],
   "source": [
    "# Print test accuracy\n",
    "accuracy1 = np.trace(confusion_1)/len(labels_test)\n",
    "accuracy1"
   ]
  },
  {
   "cell_type": "code",
   "execution_count": 94,
   "id": "511d9625-2510-48fe-b507-ead650a2cdd6",
   "metadata": {},
   "outputs": [
    {
     "data": {
      "text/plain": [
       "<Axes: >"
      ]
     },
     "execution_count": 94,
     "metadata": {},
     "output_type": "execute_result"
    },
    {
     "data": {
      "image/png": "[encoded data removed]",
      "text/plain": [
       "<Figure size 640x480 with 2 Axes>"
      ]
     },
     "metadata": {},
     "output_type": "display_data"
    }
   ],
   "source": [
    "# Display confusion matrix as heatmap\n",
    "import seaborn as sns\n",
    "sns.heatmap(confusion_1, annot = True, fmt=',d')"
   ]
  }
 ],
 "metadata": {
  "kernelspec": {
   "display_name": "Python 3 (ipykernel)",
   "language": "python",
   "name": "python3"
  },
  "language_info": {
   "codemirror_mode": {
    "name": "ipython",
    "version": 3
   },
   "file_extension": ".py",
   "mimetype": "text/x-python",
   "name": "python",
   "nbconvert_exporter": "python",
   "pygments_lexer": "ipython3",
   "version": "3.11.5"
  }
 },
 "nbformat": 4,
 "nbformat_minor": 5
}
